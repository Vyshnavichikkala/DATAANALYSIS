{
  "nbformat": 4,
  "nbformat_minor": 0,
  "metadata": {
    "colab": {
      "provenance": []
    },
    "kernelspec": {
      "name": "python3",
      "display_name": "Python 3"
    },
    "language_info": {
      "name": "python"
    }
  },
  "cells": [
    {
      "cell_type": "code",
      "execution_count": null,
      "metadata": {
        "id": "JtLU5y4KNDid"
      },
      "outputs": [],
      "source": [
        "import seaborn as sns\n",
        "import matplotlib.pyplot as plt\n",
        "import numpy as np\n",
        "import pandas as pd\n",
        "# load example loadset\n",
        "planets=sns.load_dataset(\"planets\")\n",
        "planets_df=pd.DataFrame(planets)\n",
        "planets_df.to_csv('planets_dataset.csv',index=False)"
      ]
    },
    {
      "cell_type": "code",
      "source": [
        "import pandas as pd\n",
        "df=pd.read_csv(\"/content/planets_dataset.csv\")\n",
        "print(df.head())\n",
        "print(df.tail())"
      ],
      "metadata": {
        "colab": {
          "base_uri": "https://localhost:8080/"
        },
        "id": "D7ilZgfIOQeF",
        "outputId": "9a8f8431-403c-424c-b2c5-2b4dddfed22e"
      },
      "execution_count": null,
      "outputs": [
        {
          "output_type": "stream",
          "name": "stdout",
          "text": [
            "            method  number  orbital_period   mass  distance  year\n",
            "0  Radial Velocity       1         269.300   7.10     77.40  2006\n",
            "1  Radial Velocity       1         874.774   2.21     56.95  2008\n",
            "2  Radial Velocity       1         763.000   2.60     19.84  2011\n",
            "3  Radial Velocity       1         326.030  19.40    110.62  2007\n",
            "4  Radial Velocity       1         516.220  10.50    119.47  2009\n",
            "       method  number  orbital_period  mass  distance  year\n",
            "1030  Transit       1        3.941507   NaN     172.0  2006\n",
            "1031  Transit       1        2.615864   NaN     148.0  2007\n",
            "1032  Transit       1        3.191524   NaN     174.0  2007\n",
            "1033  Transit       1        4.125083   NaN     293.0  2008\n",
            "1034  Transit       1        4.187757   NaN     260.0  2008\n"
          ]
        }
      ]
    },
    {
      "cell_type": "code",
      "source": [
        "df=pd.read_csv(\"/content/planets_dataset.csv\")\n",
        "print(df.describe)"
      ],
      "metadata": {
        "colab": {
          "base_uri": "https://localhost:8080/"
        },
        "id": "Tkbw_IP0PJAE",
        "outputId": "ec154e21-6318-4a84-e5a4-7198f802df56"
      },
      "execution_count": null,
      "outputs": [
        {
          "output_type": "stream",
          "name": "stdout",
          "text": [
            "<bound method NDFrame.describe of                method  number  orbital_period   mass  distance  year\n",
            "0     Radial Velocity       1      269.300000   7.10     77.40  2006\n",
            "1     Radial Velocity       1      874.774000   2.21     56.95  2008\n",
            "2     Radial Velocity       1      763.000000   2.60     19.84  2011\n",
            "3     Radial Velocity       1      326.030000  19.40    110.62  2007\n",
            "4     Radial Velocity       1      516.220000  10.50    119.47  2009\n",
            "...               ...     ...             ...    ...       ...   ...\n",
            "1030          Transit       1        3.941507    NaN    172.00  2006\n",
            "1031          Transit       1        2.615864    NaN    148.00  2007\n",
            "1032          Transit       1        3.191524    NaN    174.00  2007\n",
            "1033          Transit       1        4.125083    NaN    293.00  2008\n",
            "1034          Transit       1        4.187757    NaN    260.00  2008\n",
            "\n",
            "[1035 rows x 6 columns]>\n"
          ]
        }
      ]
    }
  ]
}